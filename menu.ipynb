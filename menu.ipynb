{
 "cells": [
  {
   "cell_type": "code",
   "execution_count": 3,
   "metadata": {},
   "outputs": [],
   "source": [
    "from bs4 import BeautifulSoup"
   ]
  },
  {
   "cell_type": "code",
   "execution_count": 44,
   "metadata": {},
   "outputs": [],
   "source": [
    "#URL: https://www.sushi-suzi.nl/menus/a-la-carte/ let's open it.\n",
    "#Using encoding=\"utf-8\" to properly display the € signs.\n",
    "with open(\"restaurantsuzi.html\", encoding=\"utf-8\") as f:\n",
    "    soup = BeautifulSoup(f, \"lxml\")"
   ]
  },
  {
   "cell_type": "code",
   "execution_count": 45,
   "metadata": {},
   "outputs": [
    {
     "data": {
      "text/plain": [
       "'À la carte - Restaurant Suzi'"
      ]
     },
     "execution_count": 45,
     "metadata": {},
     "output_type": "execute_result"
    }
   ],
   "source": [
    "#Getting Title\n",
    "title = soup.find_all('title')[0].get_text()\n",
    "title"
   ]
  },
  {
   "cell_type": "code",
   "execution_count": 50,
   "metadata": {},
   "outputs": [
    {
     "ename": "IndexError",
     "evalue": "list index out of range",
     "output_type": "error",
     "traceback": [
      "\u001b[1;31m---------------------------------------------------------------------------\u001b[0m",
      "\u001b[1;31mIndexError\u001b[0m                                Traceback (most recent call last)",
      "\u001b[1;32m<ipython-input-50-044324741c47>\u001b[0m in \u001b[0;36m<module>\u001b[1;34m()\u001b[0m\n\u001b[0;32m      4\u001b[0m \u001b[1;33m\u001b[0m\u001b[0m\n\u001b[0;32m      5\u001b[0m \u001b[1;32mfor\u001b[0m \u001b[0mitem\u001b[0m \u001b[1;32min\u001b[0m \u001b[0mmenuitems\u001b[0m\u001b[1;33m:\u001b[0m\u001b[1;33m\u001b[0m\u001b[0m\n\u001b[1;32m----> 6\u001b[1;33m     \u001b[0mfood\u001b[0m \u001b[1;33m=\u001b[0m \u001b[0mmenuitems\u001b[0m\u001b[1;33m[\u001b[0m\u001b[0mindex\u001b[0m\u001b[1;33m]\u001b[0m\u001b[1;33m.\u001b[0m\u001b[0mget_text\u001b[0m\u001b[1;33m(\u001b[0m\u001b[1;33m)\u001b[0m\u001b[1;33m\u001b[0m\u001b[0m\n\u001b[0m\u001b[0;32m      7\u001b[0m     \u001b[0mdishes\u001b[0m\u001b[1;33m.\u001b[0m\u001b[0mappend\u001b[0m\u001b[1;33m(\u001b[0m\u001b[0mfood\u001b[0m\u001b[1;33m)\u001b[0m\u001b[1;33m\u001b[0m\u001b[0m\n",
      "\u001b[1;31mIndexError\u001b[0m: list index out of range"
     ]
    }
   ],
   "source": [
    "#Getting all A la carte menu items\n",
    "menuitems = soup.select('.mprm-item-title')\n",
    "dishes = []\n",
    "index = 0\n",
    "\n",
    "for item in menuitems:\n",
    "    food = menuitems[index].get_text()\n",
    "    dishes.append(food)\n",
    "    index = index + 1"
   ]
  },
  {
   "cell_type": "code",
   "execution_count": 47,
   "metadata": {},
   "outputs": [
    {
     "data": {
      "text/plain": [
       "['€14,90',\n",
       " '€12,50',\n",
       " '€12,50',\n",
       " '€9,50',\n",
       " '€15,90',\n",
       " '€26,90',\n",
       " '€30,00',\n",
       " '€30,00',\n",
       " '€30,00',\n",
       " '€35,00',\n",
       " '€39,50',\n",
       " '€44,00',\n",
       " '€1,60',\n",
       " '€1,70',\n",
       " '€1,70',\n",
       " '€1,70',\n",
       " '€1,70',\n",
       " '€1,70',\n",
       " '€2,40',\n",
       " '€2,40',\n",
       " '€2,40',\n",
       " '€1,60',\n",
       " '€1,60',\n",
       " '€1,60',\n",
       " '€1,60',\n",
       " '€1,60',\n",
       " '€2,40',\n",
       " '€1,70',\n",
       " '€1,70',\n",
       " '€2,90',\n",
       " '€2,90',\n",
       " '€4,90',\n",
       " '€3,90',\n",
       " '€2,90',\n",
       " '€5,90',\n",
       " '€3,90',\n",
       " '€2,90',\n",
       " '€8,90',\n",
       " '€8,90',\n",
       " '€8,90',\n",
       " '€9,90',\n",
       " '€10,90',\n",
       " '€10,90',\n",
       " '€8,90',\n",
       " '€7,20',\n",
       " '€10,90',\n",
       " '€10,90',\n",
       " '€10,90',\n",
       " '€3,90',\n",
       " '€3,90',\n",
       " '€3,90',\n",
       " '€3,90',\n",
       " '€3,90',\n",
       " '€3,90',\n",
       " '€5,50',\n",
       " '€6,50',\n",
       " '€5,50',\n",
       " '€5,50',\n",
       " '€8,00',\n",
       " '€6,50',\n",
       " '€5,50',\n",
       " '€2,80',\n",
       " '€4,80',\n",
       " '€5,80',\n",
       " '€3,00',\n",
       " '€5,80',\n",
       " '€5,80',\n",
       " '€7,75',\n",
       " '€9,75',\n",
       " '€9,75',\n",
       " '€8,75',\n",
       " '€4,50',\n",
       " '€3,00',\n",
       " '€4,80',\n",
       " '€3,00',\n",
       " '€6,50',\n",
       " '€11,00',\n",
       " '€5,00',\n",
       " '€7,75',\n",
       " '€7,75',\n",
       " '€8,75',\n",
       " '€8,75',\n",
       " '€18,00',\n",
       " '€15,00',\n",
       " '€15,00',\n",
       " '€18,00',\n",
       " '€16,00',\n",
       " '€19,00',\n",
       " '€3,50',\n",
       " '€3,50',\n",
       " '€3,50',\n",
       " '€5,00',\n",
       " '€5,00',\n",
       " '€5,00']"
      ]
     },
     "execution_count": 47,
     "metadata": {},
     "output_type": "execute_result"
    }
   ],
   "source": [
    "#Getting all prices\n",
    "prices = soup.select('.mprm-price')\n",
    "money = []\n",
    "index = 0\n",
    "\n",
    "for price in prices:\n",
    "    amount = prices[index].get_text()\n",
    "    money.append(amount)\n",
    "    index = index + 1\n",
    "    \n",
    "money"
   ]
  },
  {
   "cell_type": "code",
   "execution_count": 49,
   "metadata": {},
   "outputs": [],
   "source": [
    "#Combining these two with pandas.\n",
    "import pandas as pd\n",
    "df = pd.DataFrame(dishes)\n",
    "df[\"price\"] = money\n",
    "\n",
    "#Saving our new menu list to a json file\n",
    "df.to_json(\"menu.json\")"
   ]
  },
  {
   "cell_type": "code",
   "execution_count": null,
   "metadata": {},
   "outputs": [],
   "source": []
  }
 ],
 "metadata": {
  "kernelspec": {
   "display_name": "Python 3",
   "language": "python",
   "name": "python3"
  },
  "language_info": {
   "codemirror_mode": {
    "name": "ipython",
    "version": 3
   },
   "file_extension": ".py",
   "mimetype": "text/x-python",
   "name": "python",
   "nbconvert_exporter": "python",
   "pygments_lexer": "ipython3",
   "version": "3.6.4"
  }
 },
 "nbformat": 4,
 "nbformat_minor": 2
}
