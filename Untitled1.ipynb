{
 "cells": [
  {
   "cell_type": "code",
   "execution_count": 45,
   "metadata": {},
   "outputs": [
    {
     "ename": "SyntaxError",
     "evalue": "unexpected EOF while parsing (<ipython-input-45-5e725444ec22>, line 18)",
     "output_type": "error",
     "traceback": [
      "\u001b[1;36m  File \u001b[1;32m\"<ipython-input-45-5e725444ec22>\"\u001b[1;36m, line \u001b[1;32m18\u001b[0m\n\u001b[1;33m    \u001b[0m\n\u001b[1;37m    ^\u001b[0m\n\u001b[1;31mSyntaxError\u001b[0m\u001b[1;31m:\u001b[0m unexpected EOF while parsing\n"
     ]
    }
   ],
   "source": [
    "#Define dictionary\n",
    "favmovie = {\n",
    "    \"name\" : \"The Lord of the Rings: Return of the King\",\n",
    "    \"year\" : 2003,\n",
    "    \"duration\" : 201,\n",
    "    \"director\" : \"Peter Jackson\",\n",
    "    \"actors\" : [\"Elijah Wood\", \"Sean Astin\", \"Viggo Mortensen\", \"Ian McKellen\"]\n",
    "}\n",
    "\n",
    "glue = \",\"\n",
    "glue.join(favmovie[\"actors\"])\n",
    "    \n",
    "#for loop to print the values\n",
    "for key in favmovie:\n",
    "    value = favmovie[key]\n",
    "    print(f\"{key}: {value}\")\n",
    "    if duration in favmovie:\n",
    "        "
   ]
  },
  {
   "cell_type": "code",
   "execution_count": null,
   "metadata": {},
   "outputs": [],
   "source": []
  }
 ],
 "metadata": {
  "kernelspec": {
   "display_name": "Python 3",
   "language": "python",
   "name": "python3"
  },
  "language_info": {
   "codemirror_mode": {
    "name": "ipython",
    "version": 3
   },
   "file_extension": ".py",
   "mimetype": "text/x-python",
   "name": "python",
   "nbconvert_exporter": "python",
   "pygments_lexer": "ipython3",
   "version": "3.6.4"
  }
 },
 "nbformat": 4,
 "nbformat_minor": 2
}
