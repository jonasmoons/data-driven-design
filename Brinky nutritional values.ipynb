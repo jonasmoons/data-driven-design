{
 "cells": [
  {
   "cell_type": "code",
   "execution_count": 12,
   "metadata": {},
   "outputs": [
    {
     "name": "stdin",
     "output_type": "stream",
     "text": [
      "How many Brinkies did you eat? 5\n"
     ]
    },
    {
     "name": "stdout",
     "output_type": "stream",
     "text": [
      "The amount of calories in 5 Brinkies is 576.0 kcal.\n",
      "Also, there's 83.0 carbs, 24.0 grams of fat and 6.5 grams of egg white.\n"
     ]
    }
   ],
   "source": [
    "# Brinky Nutritional Value #\n",
    "kcal = 115.2\n",
    "carbs = 16.6\n",
    "fat = 4.8\n",
    "eggwhite = 1.3\n",
    "\n",
    "# Ask user for amount of cookies #\n",
    "amount = input(\"How many Brinkies did you eat?\")\n",
    "\n",
    "# Calculate #\n",
    "calories = int(amount) * kcal\n",
    "carbohydrates = int(amount) * carbs\n",
    "fats = int(amount) * fat\n",
    "eggwhites = int(amount) * eggwhite\n",
    "\n",
    "\n",
    "# Print to the user #\n",
    "print(\"The amount of calories in \" + str(amount) + \" Brinkies is \" + str(calories) + \" kcal.\")\n",
    "print(\"Also, there's \" + str(carbohydrates) + \" carbs, \" + str(fats) + \" grams of fat and \" + str(eggwhites) + \" grams of egg white.\")"
   ]
  },
  {
   "cell_type": "code",
   "execution_count": null,
   "metadata": {},
   "outputs": [],
   "source": []
  }
 ],
 "metadata": {
  "kernelspec": {
   "display_name": "Python 3",
   "language": "python",
   "name": "python3"
  },
  "language_info": {
   "codemirror_mode": {
    "name": "ipython",
    "version": 3
   },
   "file_extension": ".py",
   "mimetype": "text/x-python",
   "name": "python",
   "nbconvert_exporter": "python",
   "pygments_lexer": "ipython3",
   "version": "3.6.4"
  }
 },
 "nbformat": 4,
 "nbformat_minor": 2
}
