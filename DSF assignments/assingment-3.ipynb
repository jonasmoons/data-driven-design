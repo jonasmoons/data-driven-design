{
 "cells": [
  {
   "cell_type": "code",
   "execution_count": 1,
   "metadata": {},
   "outputs": [],
   "source": [
    "#importing...\n",
    "import requests\n",
    "import json\n",
    "\n",
    "from IPython.display import display, Image\n",
    "from IPython.display import display, HTML"
   ]
  },
  {
   "cell_type": "code",
   "execution_count": 3,
   "metadata": {},
   "outputs": [
    {
     "name": "stdin",
     "output_type": "stream",
     "text": [
      "What article would you like to read? statue of liberty\n",
      "What language do you prefer? en/nl/de/es en\n"
     ]
    },
    {
     "name": "stdout",
     "output_type": "stream",
     "text": [
      "You've asked for the en article about statue_of_liberty.\n"
     ]
    }
   ],
   "source": [
    "#Ask user about preferences\n",
    "article = input(\"What article would you like to read?\").strip().replace(\" \", \"_\")\n",
    "language = input(\"What language do you prefer? en/nl/de/es\").strip().lower()\n",
    "\n",
    "print(f\"You've asked for the {language} article about {article}.\")"
   ]
  },
  {
   "cell_type": "code",
   "execution_count": 4,
   "metadata": {},
   "outputs": [],
   "source": [
    "#API call and getting the data into a python dict with the data variable.\n",
    "url = f\"https://{language}.wikipedia.org/api/rest_v1/page/summary/{article}\"\n",
    "req = requests.get(url)\n",
    "data = json.loads(req.text)"
   ]
  },
  {
   "cell_type": "code",
   "execution_count": 5,
   "metadata": {},
   "outputs": [
    {
     "name": "stdout",
     "output_type": "stream",
     "text": [
      "The website is online!\n"
     ]
    }
   ],
   "source": [
    "#Status\n",
    "if req.status_code == 200:\n",
    "    print(f\"The website is online!\")\n",
    "    \n",
    "else:\n",
    "    print(f\"Error! We're receiving an error {req.status_code}\")"
   ]
  },
  {
   "cell_type": "code",
   "execution_count": 6,
   "metadata": {},
   "outputs": [
    {
     "name": "stdout",
     "output_type": "stream",
     "text": [
      "Title: Statue of Liberty. Description: Colossal neoclassical sculpture on Liberty Island in New York Harbor.\n"
     ]
    }
   ],
   "source": [
    "#Getting title and description\n",
    "title = data['title']\n",
    "desc = data['description']\n",
    "print(f\"Title: {title}. Description: {desc}.\")"
   ]
  },
  {
   "cell_type": "code",
   "execution_count": 7,
   "metadata": {},
   "outputs": [
    {
     "name": "stdout",
     "output_type": "stream",
     "text": [
      "Thumbnail found:\n"
     ]
    },
    {
     "data": {
      "text/html": [
       "<img src=\"https://upload.wikimedia.org/wikipedia/commons/thumb/a/a1/Statue_of_Liberty_7.jpg/232px-Statue_of_Liberty_7.jpg\"/>"
      ],
      "text/plain": [
       "<IPython.core.display.Image object>"
      ]
     },
     "metadata": {},
     "output_type": "display_data"
    }
   ],
   "source": [
    "#Checking for Thumbnail\n",
    "if \"thumbnail\" in data:\n",
    "    thumb = data[\"thumbnail\"][\"source\"]\n",
    "    print(\"Thumbnail found:\")\n",
    "    img = Image(url = thumb)\n",
    "    display(img)\n",
    "else:\n",
    "    print(\"No thumbnail found.\")"
   ]
  },
  {
   "cell_type": "code",
   "execution_count": 8,
   "metadata": {},
   "outputs": [
    {
     "name": "stdout",
     "output_type": "stream",
     "text": [
      "Click on the following link to view the Google Maps page for statue_of_liberty.\n"
     ]
    },
    {
     "data": {
      "text/html": [
       "<a href = \"https://www.google.com/maps/?q=40.68916667,-74.04444444\">Click here for Google Maps</a>"
      ],
      "text/plain": [
       "<IPython.core.display.HTML object>"
      ]
     },
     "metadata": {},
     "output_type": "display_data"
    }
   ],
   "source": [
    "#checking if the data exists.\n",
    "if \"coordinates\" in data:\n",
    "    latitude = data[\"coordinates\"][\"lat\"]\n",
    "    longitude = data[\"coordinates\"][\"lon\"]\n",
    "    #Now I want to create a piece of HTML code to make a clickable link.\n",
    "    click = f\"\"\"<a href = \"https://www.google.com/maps/?q={latitude},{longitude}\">Click here for Google Maps</a>\"\"\"\n",
    "    html = HTML(click)\n",
    "    print(f\"Click on the following link to view the Google Maps page for {article}.\")\n",
    "    display(html)\n",
    "else:\n",
    "    print(\"No coordinates found.\")"
   ]
  },
  {
   "cell_type": "code",
   "execution_count": 9,
   "metadata": {},
   "outputs": [
    {
     "name": "stdout",
     "output_type": "stream",
     "text": [
      "The website is online!\n"
     ]
    }
   ],
   "source": [
    "#API call to get related pages.\n",
    "urll = f\"https://{language}.wikipedia.org/api/rest_v1/page/related/{article}\"\n",
    "request = requests.get(urll)\n",
    "reldata = json.loads(request.text)\n",
    "\n",
    "#Status 2\n",
    "if request.status_code == 200:\n",
    "    print(f\"The website is online!\")\n",
    "    \n",
    "else:\n",
    "    print(f\"Error! We're receiving an error {request.status_code}\")"
   ]
  },
  {
   "cell_type": "code",
   "execution_count": 52,
   "metadata": {},
   "outputs": [],
   "source": [
    "#Getting the related results\n",
    "related = reldata[\"pages\"]\n",
    "rellist = []\n",
    "i=0\n",
    "for page in related:\n",
    "    rellist.append({\n",
    "        \"title\" : page.get('displaytitle'),\n",
    "        \"description\" : page.get('description'),\n",
    "        \"url\" : page.get('content_urls').get('desktop').get('page')\n",
    "        })\n",
    "    i+=1\n",
    "    if i ==3:\n",
    "        break\n"
   ]
  },
  {
   "cell_type": "code",
   "execution_count": 56,
   "metadata": {},
   "outputs": [
    {
     "name": "stdout",
     "output_type": "stream",
     "text": [
      "Article title: Ellis Island. Article description: island in New York Harbor in the United States of America. Url: https://en.wikipedia.org/wiki/Ellis_Island\n",
      "Article title: Frédéric Auguste Bartholdi. Article description: French sculptor. Url: https://en.wikipedia.org/wiki/Frédéric_Auguste_Bartholdi\n",
      "Article title: Libertas. Article description: Roman Goddess of Liberty. Url: https://en.wikipedia.org/wiki/Libertas\n"
     ]
    }
   ],
   "source": [
    "for result in rellist:\n",
    "    print('Article title: ' + result['title'] + \". Article description: \" + result['description'] + '. Url: ' + result['url'])\n",
    "\n"
   ]
  },
  {
   "cell_type": "code",
   "execution_count": null,
   "metadata": {},
   "outputs": [],
   "source": []
  },
  {
   "cell_type": "code",
   "execution_count": null,
   "metadata": {},
   "outputs": [],
   "source": []
  }
 ],
 "metadata": {
  "kernelspec": {
   "display_name": "Python 3",
   "language": "python",
   "name": "python3"
  },
  "language_info": {
   "codemirror_mode": {
    "name": "ipython",
    "version": 3
   },
   "file_extension": ".py",
   "mimetype": "text/x-python",
   "name": "python",
   "nbconvert_exporter": "python",
   "pygments_lexer": "ipython3",
   "version": "3.6.4"
  }
 },
 "nbformat": 4,
 "nbformat_minor": 2
}
