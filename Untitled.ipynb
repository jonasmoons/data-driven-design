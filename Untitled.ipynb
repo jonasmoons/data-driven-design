{
 "cells": [
  {
   "cell_type": "code",
   "execution_count": null,
   "metadata": {},
   "outputs": [
    {
     "name": "stdin",
     "output_type": "stream",
     "text": [
      "What do you want to do with this list? remove/add/save/quit add\n"
     ]
    },
    {
     "name": "stdout",
     "output_type": "stream",
     "text": [
      "Who do you want to add to the list?\n"
     ]
    },
    {
     "name": "stdin",
     "output_type": "stream",
     "text": [
      "Enter first name, last name, birthyear and party. Seperate with commas. For instance Mark,Rutte,1967,VVD John,Titor,2008,CERN\n"
     ]
    },
    {
     "name": "stdout",
     "output_type": "stream",
     "text": [
      "['John', 'Titor', '2008', 'CERN']\n",
      "Your addition has been added to the list.\n"
     ]
    }
   ],
   "source": [
    "#read politicians file\n",
    "politicians = open(\"politicians.csv\", \"r\")\n",
    "\n",
    "#change .csv file into a list\n",
    "#Assign variables to list parts and print the full sentences.\n",
    "#Added index so you can see who is at what spot in the list.\n",
    "index = 0\n",
    "for line in politicians:\n",
    "    list = line.split(\",\")\n",
    "    firstname = list[0]\n",
    "    lastname = list[1]\n",
    "    birthyear = list[2]\n",
    "    party = list[3][:-1]\n",
    "    print(str(index) + \":\" + firstname + \" \" + lastname + \" was born in \" + birthyear + \" and a member of the \" + party + \".\")\n",
    "    index = index + 1\n",
    "\n",
    "#Function to make changes to the list. I chose a function to make it repeatable, so users put in the right commands.)\n",
    "def chooseyouraction():\n",
    "    choice = input(\"What do you want to do with this list? remove/add/save/quit\")\n",
    "    #Remove: Removes list part based on index number.\n",
    "    if choice == \"remove\":\n",
    "        index = 0\n",
    "        print(\"Type the index number of the politician who you would like to remove.\")\n",
    "        remove = input(\"Enter your number here.\")\n",
    "        for line in politicians:\n",
    "            list.pop(remove)\n",
    "            print(\"Line \" + remove + \" has been succesfully removed.\")\n",
    "            index = index + 1\n",
    "        chooseyouraction()\n",
    "    \n",
    "    elif choice == \"add\":\n",
    "        print(\"Who do you want to add to the list?\")\n",
    "        adding = input(\"Enter first name, last name, birthyear and party. Seperate with commas. For instance Mark,Rutte,1967,VVD\").split(\",\")\n",
    "        list.append()\n",
    "        print(\"Your addition has been added to the list.\")\n",
    "        chooseyouraction()\n",
    "    \n",
    "    elif choice == \"save\":\n",
    "        print(\"The programme will now save your changes.\")\n",
    "        \n",
    "        politicians = open(\"politicians.csv\", \"r\")   \n",
    "        for line in politicians:\n",
    "            politicians.write(line)\n",
    "            index = index + 1   \n",
    "        chooseyouraction()             \n",
    "    \n",
    "    elif choice == \"quit\":\n",
    "        print(\"The programme will now exit.\")\n",
    "        exit()\n",
    "    \n",
    "    else:\n",
    "        print(\"Unrecognized command. Please try again.\")\n",
    "        chooseyouraction()\n",
    "        \n",
    "chooseyouraction()\n",
    "    \n",
    "politicians.close()"
   ]
  },
  {
   "cell_type": "code",
   "execution_count": null,
   "metadata": {},
   "outputs": [],
   "source": []
  }
 ],
 "metadata": {
  "kernelspec": {
   "display_name": "Python 3",
   "language": "python",
   "name": "python3"
  },
  "language_info": {
   "codemirror_mode": {
    "name": "ipython",
    "version": 3
   },
   "file_extension": ".py",
   "mimetype": "text/x-python",
   "name": "python",
   "nbconvert_exporter": "python",
   "pygments_lexer": "ipython3",
   "version": "3.6.4"
  }
 },
 "nbformat": 4,
 "nbformat_minor": 2
}
